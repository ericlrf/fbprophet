{
  "nbformat": 4,
  "nbformat_minor": 0,
  "metadata": {
    "colab": {
      "name": "fbprophet_tests.ipynb",
      "provenance": [],
      "authorship_tag": "ABX9TyMQDbItQBwffIaOwZNn/PmV",
      "include_colab_link": true
    },
    "kernelspec": {
      "name": "python3",
      "display_name": "Python 3"
    }
  },
  "cells": [
    {
      "cell_type": "markdown",
      "metadata": {
        "id": "view-in-github",
        "colab_type": "text"
      },
      "source": [
        "<a href=\"https://colab.research.google.com/github/ericlrf/fbprophet/blob/main/fbprophet_tests.ipynb\" target=\"_parent\"><img src=\"https://colab.research.google.com/assets/colab-badge.svg\" alt=\"Open In Colab\"/></a>"
      ]
    },
    {
      "cell_type": "code",
      "metadata": {
        "id": "Kgt9c0Ej8m0U"
      },
      "source": [
        "!pip install yfinance"
      ],
      "execution_count": null,
      "outputs": []
    },
    {
      "cell_type": "code",
      "metadata": {
        "id": "kaAACw5F9jA8"
      },
      "source": [
        "!pip install fbprophet"
      ],
      "execution_count": null,
      "outputs": []
    },
    {
      "cell_type": "markdown",
      "metadata": {
        "id": "H5ftZmi7AGSs"
      },
      "source": [
        "# **Test 1**"
      ]
    },
    {
      "cell_type": "code",
      "metadata": {
        "id": "8EbZyxsE9trG"
      },
      "source": [
        "import yfinance\r\n",
        "from fbprophet import Prophet\r\n",
        "import datetime\r\n",
        "import pandas as pd\r\n",
        "import numpy as np\r\n",
        "import matplotlib.pyplot as plt"
      ],
      "execution_count": 11,
      "outputs": []
    },
    {
      "cell_type": "code",
      "metadata": {
        "colab": {
          "base_uri": "https://localhost:8080/"
        },
        "id": "ZG51p2Ha-IJZ",
        "outputId": "2a94d802-d580-4566-e3bb-9e56488191f0"
      },
      "source": [
        "data = yfinance.download('MGLU3.SA', start='2018-01-01', end=datetime.datetime.today())"
      ],
      "execution_count": 5,
      "outputs": [
        {
          "output_type": "stream",
          "text": [
            "\r[*********************100%***********************]  1 of 1 completed\n"
          ],
          "name": "stdout"
        }
      ]
    },
    {
      "cell_type": "code",
      "metadata": {
        "colab": {
          "base_uri": "https://localhost:8080/",
          "height": 450
        },
        "id": "Ugtf40Qr_86n",
        "outputId": "ccfdaa81-c0fa-4cb1-c140-8a7241e3d30a"
      },
      "source": [
        "data"
      ],
      "execution_count": 6,
      "outputs": [
        {
          "output_type": "execute_result",
          "data": {
            "text/html": [
              "<div>\n",
              "<style scoped>\n",
              "    .dataframe tbody tr th:only-of-type {\n",
              "        vertical-align: middle;\n",
              "    }\n",
              "\n",
              "    .dataframe tbody tr th {\n",
              "        vertical-align: top;\n",
              "    }\n",
              "\n",
              "    .dataframe thead th {\n",
              "        text-align: right;\n",
              "    }\n",
              "</style>\n",
              "<table border=\"1\" class=\"dataframe\">\n",
              "  <thead>\n",
              "    <tr style=\"text-align: right;\">\n",
              "      <th></th>\n",
              "      <th>Open</th>\n",
              "      <th>High</th>\n",
              "      <th>Low</th>\n",
              "      <th>Close</th>\n",
              "      <th>Adj Close</th>\n",
              "      <th>Volume</th>\n",
              "    </tr>\n",
              "    <tr>\n",
              "      <th>Date</th>\n",
              "      <th></th>\n",
              "      <th></th>\n",
              "      <th></th>\n",
              "      <th></th>\n",
              "      <th></th>\n",
              "      <th></th>\n",
              "    </tr>\n",
              "  </thead>\n",
              "  <tbody>\n",
              "    <tr>\n",
              "      <th>2018-01-02</th>\n",
              "      <td>2.528130</td>\n",
              "      <td>2.574370</td>\n",
              "      <td>2.450310</td>\n",
              "      <td>2.478130</td>\n",
              "      <td>2.309358</td>\n",
              "      <td>59427200</td>\n",
              "    </tr>\n",
              "    <tr>\n",
              "      <th>2018-01-03</th>\n",
              "      <td>2.468750</td>\n",
              "      <td>2.542500</td>\n",
              "      <td>2.422500</td>\n",
              "      <td>2.446880</td>\n",
              "      <td>2.280236</td>\n",
              "      <td>41385600</td>\n",
              "    </tr>\n",
              "    <tr>\n",
              "      <th>2018-01-04</th>\n",
              "      <td>2.500000</td>\n",
              "      <td>2.516250</td>\n",
              "      <td>2.478130</td>\n",
              "      <td>2.505630</td>\n",
              "      <td>2.334985</td>\n",
              "      <td>47936000</td>\n",
              "    </tr>\n",
              "    <tr>\n",
              "      <th>2018-01-05</th>\n",
              "      <td>2.514060</td>\n",
              "      <td>2.528440</td>\n",
              "      <td>2.448440</td>\n",
              "      <td>2.456250</td>\n",
              "      <td>2.288968</td>\n",
              "      <td>30684800</td>\n",
              "    </tr>\n",
              "    <tr>\n",
              "      <th>2018-01-08</th>\n",
              "      <td>2.453120</td>\n",
              "      <td>2.503440</td>\n",
              "      <td>2.448440</td>\n",
              "      <td>2.456560</td>\n",
              "      <td>2.289257</td>\n",
              "      <td>28796800</td>\n",
              "    </tr>\n",
              "    <tr>\n",
              "      <th>...</th>\n",
              "      <td>...</td>\n",
              "      <td>...</td>\n",
              "      <td>...</td>\n",
              "      <td>...</td>\n",
              "      <td>...</td>\n",
              "      <td>...</td>\n",
              "    </tr>\n",
              "    <tr>\n",
              "      <th>2020-12-17</th>\n",
              "      <td>24.860001</td>\n",
              "      <td>25.110001</td>\n",
              "      <td>24.360001</td>\n",
              "      <td>24.540001</td>\n",
              "      <td>24.540001</td>\n",
              "      <td>23427200</td>\n",
              "    </tr>\n",
              "    <tr>\n",
              "      <th>2020-12-18</th>\n",
              "      <td>24.480000</td>\n",
              "      <td>24.629999</td>\n",
              "      <td>24.100000</td>\n",
              "      <td>24.450001</td>\n",
              "      <td>24.450001</td>\n",
              "      <td>18149600</td>\n",
              "    </tr>\n",
              "    <tr>\n",
              "      <th>2020-12-21</th>\n",
              "      <td>23.930000</td>\n",
              "      <td>25.379999</td>\n",
              "      <td>23.610001</td>\n",
              "      <td>25.000000</td>\n",
              "      <td>25.000000</td>\n",
              "      <td>52188800</td>\n",
              "    </tr>\n",
              "    <tr>\n",
              "      <th>2020-12-22</th>\n",
              "      <td>25.290001</td>\n",
              "      <td>25.420000</td>\n",
              "      <td>24.850000</td>\n",
              "      <td>25.280001</td>\n",
              "      <td>25.280001</td>\n",
              "      <td>20196600</td>\n",
              "    </tr>\n",
              "    <tr>\n",
              "      <th>2020-12-23</th>\n",
              "      <td>25.250000</td>\n",
              "      <td>25.629999</td>\n",
              "      <td>24.969999</td>\n",
              "      <td>24.969999</td>\n",
              "      <td>24.969999</td>\n",
              "      <td>20558600</td>\n",
              "    </tr>\n",
              "  </tbody>\n",
              "</table>\n",
              "<p>736 rows × 6 columns</p>\n",
              "</div>"
            ],
            "text/plain": [
              "                 Open       High        Low      Close  Adj Close    Volume\n",
              "Date                                                                       \n",
              "2018-01-02   2.528130   2.574370   2.450310   2.478130   2.309358  59427200\n",
              "2018-01-03   2.468750   2.542500   2.422500   2.446880   2.280236  41385600\n",
              "2018-01-04   2.500000   2.516250   2.478130   2.505630   2.334985  47936000\n",
              "2018-01-05   2.514060   2.528440   2.448440   2.456250   2.288968  30684800\n",
              "2018-01-08   2.453120   2.503440   2.448440   2.456560   2.289257  28796800\n",
              "...               ...        ...        ...        ...        ...       ...\n",
              "2020-12-17  24.860001  25.110001  24.360001  24.540001  24.540001  23427200\n",
              "2020-12-18  24.480000  24.629999  24.100000  24.450001  24.450001  18149600\n",
              "2020-12-21  23.930000  25.379999  23.610001  25.000000  25.000000  52188800\n",
              "2020-12-22  25.290001  25.420000  24.850000  25.280001  25.280001  20196600\n",
              "2020-12-23  25.250000  25.629999  24.969999  24.969999  24.969999  20558600\n",
              "\n",
              "[736 rows x 6 columns]"
            ]
          },
          "metadata": {
            "tags": []
          },
          "execution_count": 6
        }
      ]
    },
    {
      "cell_type": "code",
      "metadata": {
        "id": "C5Z1weEzAPXM"
      },
      "source": [
        "df = pd.DataFrame()\r\n",
        "df['y'] = data[data.columns[3]]\r\n",
        "df['ds'] = data.index"
      ],
      "execution_count": 9,
      "outputs": []
    },
    {
      "cell_type": "code",
      "metadata": {
        "colab": {
          "base_uri": "https://localhost:8080/",
          "height": 450
        },
        "id": "fzNIzcLSBEco",
        "outputId": "7a85c0b6-e957-490d-f547-51ac2047882f"
      },
      "source": [
        "df"
      ],
      "execution_count": 10,
      "outputs": [
        {
          "output_type": "execute_result",
          "data": {
            "text/html": [
              "<div>\n",
              "<style scoped>\n",
              "    .dataframe tbody tr th:only-of-type {\n",
              "        vertical-align: middle;\n",
              "    }\n",
              "\n",
              "    .dataframe tbody tr th {\n",
              "        vertical-align: top;\n",
              "    }\n",
              "\n",
              "    .dataframe thead th {\n",
              "        text-align: right;\n",
              "    }\n",
              "</style>\n",
              "<table border=\"1\" class=\"dataframe\">\n",
              "  <thead>\n",
              "    <tr style=\"text-align: right;\">\n",
              "      <th></th>\n",
              "      <th>y</th>\n",
              "      <th>ds</th>\n",
              "    </tr>\n",
              "    <tr>\n",
              "      <th>Date</th>\n",
              "      <th></th>\n",
              "      <th></th>\n",
              "    </tr>\n",
              "  </thead>\n",
              "  <tbody>\n",
              "    <tr>\n",
              "      <th>2018-01-02</th>\n",
              "      <td>2.478130</td>\n",
              "      <td>2018-01-02</td>\n",
              "    </tr>\n",
              "    <tr>\n",
              "      <th>2018-01-03</th>\n",
              "      <td>2.446880</td>\n",
              "      <td>2018-01-03</td>\n",
              "    </tr>\n",
              "    <tr>\n",
              "      <th>2018-01-04</th>\n",
              "      <td>2.505630</td>\n",
              "      <td>2018-01-04</td>\n",
              "    </tr>\n",
              "    <tr>\n",
              "      <th>2018-01-05</th>\n",
              "      <td>2.456250</td>\n",
              "      <td>2018-01-05</td>\n",
              "    </tr>\n",
              "    <tr>\n",
              "      <th>2018-01-08</th>\n",
              "      <td>2.456560</td>\n",
              "      <td>2018-01-08</td>\n",
              "    </tr>\n",
              "    <tr>\n",
              "      <th>...</th>\n",
              "      <td>...</td>\n",
              "      <td>...</td>\n",
              "    </tr>\n",
              "    <tr>\n",
              "      <th>2020-12-17</th>\n",
              "      <td>24.540001</td>\n",
              "      <td>2020-12-17</td>\n",
              "    </tr>\n",
              "    <tr>\n",
              "      <th>2020-12-18</th>\n",
              "      <td>24.450001</td>\n",
              "      <td>2020-12-18</td>\n",
              "    </tr>\n",
              "    <tr>\n",
              "      <th>2020-12-21</th>\n",
              "      <td>25.000000</td>\n",
              "      <td>2020-12-21</td>\n",
              "    </tr>\n",
              "    <tr>\n",
              "      <th>2020-12-22</th>\n",
              "      <td>25.280001</td>\n",
              "      <td>2020-12-22</td>\n",
              "    </tr>\n",
              "    <tr>\n",
              "      <th>2020-12-23</th>\n",
              "      <td>24.969999</td>\n",
              "      <td>2020-12-23</td>\n",
              "    </tr>\n",
              "  </tbody>\n",
              "</table>\n",
              "<p>736 rows × 2 columns</p>\n",
              "</div>"
            ],
            "text/plain": [
              "                    y         ds\n",
              "Date                            \n",
              "2018-01-02   2.478130 2018-01-02\n",
              "2018-01-03   2.446880 2018-01-03\n",
              "2018-01-04   2.505630 2018-01-04\n",
              "2018-01-05   2.456250 2018-01-05\n",
              "2018-01-08   2.456560 2018-01-08\n",
              "...               ...        ...\n",
              "2020-12-17  24.540001 2020-12-17\n",
              "2020-12-18  24.450001 2020-12-18\n",
              "2020-12-21  25.000000 2020-12-21\n",
              "2020-12-22  25.280001 2020-12-22\n",
              "2020-12-23  24.969999 2020-12-23\n",
              "\n",
              "[736 rows x 2 columns]"
            ]
          },
          "metadata": {
            "tags": []
          },
          "execution_count": 10
        }
      ]
    },
    {
      "cell_type": "code",
      "metadata": {
        "id": "lknk1tQBBHsh"
      },
      "source": [
        "modelo = Prophet(daily_seasonality=True)"
      ],
      "execution_count": 12,
      "outputs": []
    },
    {
      "cell_type": "code",
      "metadata": {
        "colab": {
          "base_uri": "https://localhost:8080/"
        },
        "id": "W7aGV3rpFiS3",
        "outputId": "78e919fe-c99f-4bfc-ec39-f86d673792d0"
      },
      "source": [
        "type(modelo) # objeto prophet"
      ],
      "execution_count": 16,
      "outputs": [
        {
          "output_type": "execute_result",
          "data": {
            "text/plain": [
              "fbprophet.forecaster.Prophet"
            ]
          },
          "metadata": {
            "tags": []
          },
          "execution_count": 16
        }
      ]
    },
    {
      "cell_type": "code",
      "metadata": {
        "colab": {
          "base_uri": "https://localhost:8080/"
        },
        "id": "eRHnUAsvDQ1o",
        "outputId": "9eeea64d-f5c1-4097-b829-98b06005f97d"
      },
      "source": [
        "modelo.fit(df) # executar essa funcao apenas unica vez no notebook"
      ],
      "execution_count": 13,
      "outputs": [
        {
          "output_type": "execute_result",
          "data": {
            "text/plain": [
              "<fbprophet.forecaster.Prophet at 0x7f8fad1e5128>"
            ]
          },
          "metadata": {
            "tags": []
          },
          "execution_count": 13
        }
      ]
    },
    {
      "cell_type": "code",
      "metadata": {
        "id": "mF5Rf3AAErKz"
      },
      "source": [
        "futuro = modelo.make_future_dataframe(periods=35)"
      ],
      "execution_count": 14,
      "outputs": []
    },
    {
      "cell_type": "code",
      "metadata": {
        "colab": {
          "base_uri": "https://localhost:8080/",
          "height": 419
        },
        "id": "-ueVk9RRFoY4",
        "outputId": "df7f210c-d8f0-454e-ba5a-74197bae5141"
      },
      "source": [
        "# objeto dataframe apenas com coluna 'ds' original (sem index)\r\n",
        "futuro # acrescido com mais (771 - 736) = 35 linhas/datestamps a mais"
      ],
      "execution_count": 19,
      "outputs": [
        {
          "output_type": "execute_result",
          "data": {
            "text/html": [
              "<div>\n",
              "<style scoped>\n",
              "    .dataframe tbody tr th:only-of-type {\n",
              "        vertical-align: middle;\n",
              "    }\n",
              "\n",
              "    .dataframe tbody tr th {\n",
              "        vertical-align: top;\n",
              "    }\n",
              "\n",
              "    .dataframe thead th {\n",
              "        text-align: right;\n",
              "    }\n",
              "</style>\n",
              "<table border=\"1\" class=\"dataframe\">\n",
              "  <thead>\n",
              "    <tr style=\"text-align: right;\">\n",
              "      <th></th>\n",
              "      <th>ds</th>\n",
              "    </tr>\n",
              "  </thead>\n",
              "  <tbody>\n",
              "    <tr>\n",
              "      <th>0</th>\n",
              "      <td>2018-01-02</td>\n",
              "    </tr>\n",
              "    <tr>\n",
              "      <th>1</th>\n",
              "      <td>2018-01-03</td>\n",
              "    </tr>\n",
              "    <tr>\n",
              "      <th>2</th>\n",
              "      <td>2018-01-04</td>\n",
              "    </tr>\n",
              "    <tr>\n",
              "      <th>3</th>\n",
              "      <td>2018-01-05</td>\n",
              "    </tr>\n",
              "    <tr>\n",
              "      <th>4</th>\n",
              "      <td>2018-01-08</td>\n",
              "    </tr>\n",
              "    <tr>\n",
              "      <th>...</th>\n",
              "      <td>...</td>\n",
              "    </tr>\n",
              "    <tr>\n",
              "      <th>766</th>\n",
              "      <td>2021-01-23</td>\n",
              "    </tr>\n",
              "    <tr>\n",
              "      <th>767</th>\n",
              "      <td>2021-01-24</td>\n",
              "    </tr>\n",
              "    <tr>\n",
              "      <th>768</th>\n",
              "      <td>2021-01-25</td>\n",
              "    </tr>\n",
              "    <tr>\n",
              "      <th>769</th>\n",
              "      <td>2021-01-26</td>\n",
              "    </tr>\n",
              "    <tr>\n",
              "      <th>770</th>\n",
              "      <td>2021-01-27</td>\n",
              "    </tr>\n",
              "  </tbody>\n",
              "</table>\n",
              "<p>771 rows × 1 columns</p>\n",
              "</div>"
            ],
            "text/plain": [
              "            ds\n",
              "0   2018-01-02\n",
              "1   2018-01-03\n",
              "2   2018-01-04\n",
              "3   2018-01-05\n",
              "4   2018-01-08\n",
              "..         ...\n",
              "766 2021-01-23\n",
              "767 2021-01-24\n",
              "768 2021-01-25\n",
              "769 2021-01-26\n",
              "770 2021-01-27\n",
              "\n",
              "[771 rows x 1 columns]"
            ]
          },
          "metadata": {
            "tags": []
          },
          "execution_count": 19
        }
      ]
    },
    {
      "cell_type": "code",
      "metadata": {
        "id": "hn2hiobhFL4B"
      },
      "source": [
        "predicoes = modelo.predict(futuro)"
      ],
      "execution_count": 15,
      "outputs": []
    },
    {
      "cell_type": "code",
      "metadata": {
        "colab": {
          "base_uri": "https://localhost:8080/",
          "height": 609
        },
        "id": "f5Y6qab4Fc6i",
        "outputId": "c6bb8737-0313-48d7-836a-3abf4b245bcc"
      },
      "source": [
        "# objeto dataframe com coluna 'ds' aumentada (35 datestamps)\r\n",
        "predicoes # dataframe com 21 novas colunas derivadas da coluna 'y' (target) original"
      ],
      "execution_count": 20,
      "outputs": [
        {
          "output_type": "execute_result",
          "data": {
            "text/html": [
              "<div>\n",
              "<style scoped>\n",
              "    .dataframe tbody tr th:only-of-type {\n",
              "        vertical-align: middle;\n",
              "    }\n",
              "\n",
              "    .dataframe tbody tr th {\n",
              "        vertical-align: top;\n",
              "    }\n",
              "\n",
              "    .dataframe thead th {\n",
              "        text-align: right;\n",
              "    }\n",
              "</style>\n",
              "<table border=\"1\" class=\"dataframe\">\n",
              "  <thead>\n",
              "    <tr style=\"text-align: right;\">\n",
              "      <th></th>\n",
              "      <th>ds</th>\n",
              "      <th>trend</th>\n",
              "      <th>yhat_lower</th>\n",
              "      <th>yhat_upper</th>\n",
              "      <th>trend_lower</th>\n",
              "      <th>trend_upper</th>\n",
              "      <th>additive_terms</th>\n",
              "      <th>additive_terms_lower</th>\n",
              "      <th>additive_terms_upper</th>\n",
              "      <th>daily</th>\n",
              "      <th>daily_lower</th>\n",
              "      <th>daily_upper</th>\n",
              "      <th>weekly</th>\n",
              "      <th>weekly_lower</th>\n",
              "      <th>weekly_upper</th>\n",
              "      <th>yearly</th>\n",
              "      <th>yearly_lower</th>\n",
              "      <th>yearly_upper</th>\n",
              "      <th>multiplicative_terms</th>\n",
              "      <th>multiplicative_terms_lower</th>\n",
              "      <th>multiplicative_terms_upper</th>\n",
              "      <th>yhat</th>\n",
              "    </tr>\n",
              "  </thead>\n",
              "  <tbody>\n",
              "    <tr>\n",
              "      <th>0</th>\n",
              "      <td>2018-01-02</td>\n",
              "      <td>2.333328</td>\n",
              "      <td>1.257632</td>\n",
              "      <td>3.091826</td>\n",
              "      <td>2.333328</td>\n",
              "      <td>2.333328</td>\n",
              "      <td>-0.197392</td>\n",
              "      <td>-0.197392</td>\n",
              "      <td>-0.197392</td>\n",
              "      <td>-0.516525</td>\n",
              "      <td>-0.516525</td>\n",
              "      <td>-0.516525</td>\n",
              "      <td>-0.017335</td>\n",
              "      <td>-0.017335</td>\n",
              "      <td>-0.017335</td>\n",
              "      <td>0.336468</td>\n",
              "      <td>0.336468</td>\n",
              "      <td>0.336468</td>\n",
              "      <td>0.0</td>\n",
              "      <td>0.0</td>\n",
              "      <td>0.0</td>\n",
              "      <td>2.135937</td>\n",
              "    </tr>\n",
              "    <tr>\n",
              "      <th>1</th>\n",
              "      <td>2018-01-03</td>\n",
              "      <td>2.367192</td>\n",
              "      <td>1.272357</td>\n",
              "      <td>3.050843</td>\n",
              "      <td>2.367192</td>\n",
              "      <td>2.367192</td>\n",
              "      <td>-0.167287</td>\n",
              "      <td>-0.167287</td>\n",
              "      <td>-0.167287</td>\n",
              "      <td>-0.516525</td>\n",
              "      <td>-0.516525</td>\n",
              "      <td>-0.516525</td>\n",
              "      <td>-0.006186</td>\n",
              "      <td>-0.006186</td>\n",
              "      <td>-0.006186</td>\n",
              "      <td>0.355424</td>\n",
              "      <td>0.355424</td>\n",
              "      <td>0.355424</td>\n",
              "      <td>0.0</td>\n",
              "      <td>0.0</td>\n",
              "      <td>0.0</td>\n",
              "      <td>2.199905</td>\n",
              "    </tr>\n",
              "    <tr>\n",
              "      <th>2</th>\n",
              "      <td>2018-01-04</td>\n",
              "      <td>2.401056</td>\n",
              "      <td>1.288076</td>\n",
              "      <td>3.168531</td>\n",
              "      <td>2.401056</td>\n",
              "      <td>2.401056</td>\n",
              "      <td>-0.156406</td>\n",
              "      <td>-0.156406</td>\n",
              "      <td>-0.156406</td>\n",
              "      <td>-0.516525</td>\n",
              "      <td>-0.516525</td>\n",
              "      <td>-0.516525</td>\n",
              "      <td>-0.012959</td>\n",
              "      <td>-0.012959</td>\n",
              "      <td>-0.012959</td>\n",
              "      <td>0.373078</td>\n",
              "      <td>0.373078</td>\n",
              "      <td>0.373078</td>\n",
              "      <td>0.0</td>\n",
              "      <td>0.0</td>\n",
              "      <td>0.0</td>\n",
              "      <td>2.244650</td>\n",
              "    </tr>\n",
              "    <tr>\n",
              "      <th>3</th>\n",
              "      <td>2018-01-05</td>\n",
              "      <td>2.434921</td>\n",
              "      <td>1.441397</td>\n",
              "      <td>3.331659</td>\n",
              "      <td>2.434921</td>\n",
              "      <td>2.434921</td>\n",
              "      <td>-0.134567</td>\n",
              "      <td>-0.134567</td>\n",
              "      <td>-0.134567</td>\n",
              "      <td>-0.516525</td>\n",
              "      <td>-0.516525</td>\n",
              "      <td>-0.516525</td>\n",
              "      <td>-0.007419</td>\n",
              "      <td>-0.007419</td>\n",
              "      <td>-0.007419</td>\n",
              "      <td>0.389377</td>\n",
              "      <td>0.389377</td>\n",
              "      <td>0.389377</td>\n",
              "      <td>0.0</td>\n",
              "      <td>0.0</td>\n",
              "      <td>0.0</td>\n",
              "      <td>2.300354</td>\n",
              "    </tr>\n",
              "    <tr>\n",
              "      <th>4</th>\n",
              "      <td>2018-01-08</td>\n",
              "      <td>2.536513</td>\n",
              "      <td>1.441117</td>\n",
              "      <td>3.298497</td>\n",
              "      <td>2.536513</td>\n",
              "      <td>2.536513</td>\n",
              "      <td>-0.172117</td>\n",
              "      <td>-0.172117</td>\n",
              "      <td>-0.172117</td>\n",
              "      <td>-0.516525</td>\n",
              "      <td>-0.516525</td>\n",
              "      <td>-0.516525</td>\n",
              "      <td>-0.085233</td>\n",
              "      <td>-0.085233</td>\n",
              "      <td>-0.085233</td>\n",
              "      <td>0.429641</td>\n",
              "      <td>0.429641</td>\n",
              "      <td>0.429641</td>\n",
              "      <td>0.0</td>\n",
              "      <td>0.0</td>\n",
              "      <td>0.0</td>\n",
              "      <td>2.364396</td>\n",
              "    </tr>\n",
              "    <tr>\n",
              "      <th>...</th>\n",
              "      <td>...</td>\n",
              "      <td>...</td>\n",
              "      <td>...</td>\n",
              "      <td>...</td>\n",
              "      <td>...</td>\n",
              "      <td>...</td>\n",
              "      <td>...</td>\n",
              "      <td>...</td>\n",
              "      <td>...</td>\n",
              "      <td>...</td>\n",
              "      <td>...</td>\n",
              "      <td>...</td>\n",
              "      <td>...</td>\n",
              "      <td>...</td>\n",
              "      <td>...</td>\n",
              "      <td>...</td>\n",
              "      <td>...</td>\n",
              "      <td>...</td>\n",
              "      <td>...</td>\n",
              "      <td>...</td>\n",
              "      <td>...</td>\n",
              "      <td>...</td>\n",
              "    </tr>\n",
              "    <tr>\n",
              "      <th>766</th>\n",
              "      <td>2021-01-23</td>\n",
              "      <td>28.000286</td>\n",
              "      <td>26.948742</td>\n",
              "      <td>28.907138</td>\n",
              "      <td>27.872791</td>\n",
              "      <td>28.133178</td>\n",
              "      <td>-0.051406</td>\n",
              "      <td>-0.051406</td>\n",
              "      <td>-0.051406</td>\n",
              "      <td>-0.516525</td>\n",
              "      <td>-0.516525</td>\n",
              "      <td>-0.516525</td>\n",
              "      <td>0.064566</td>\n",
              "      <td>0.064566</td>\n",
              "      <td>0.064566</td>\n",
              "      <td>0.400553</td>\n",
              "      <td>0.400553</td>\n",
              "      <td>0.400553</td>\n",
              "      <td>0.0</td>\n",
              "      <td>0.0</td>\n",
              "      <td>0.0</td>\n",
              "      <td>27.948880</td>\n",
              "    </tr>\n",
              "    <tr>\n",
              "      <th>767</th>\n",
              "      <td>2021-01-24</td>\n",
              "      <td>28.048065</td>\n",
              "      <td>27.013252</td>\n",
              "      <td>28.968129</td>\n",
              "      <td>27.914867</td>\n",
              "      <td>28.188114</td>\n",
              "      <td>-0.066491</td>\n",
              "      <td>-0.066491</td>\n",
              "      <td>-0.066491</td>\n",
              "      <td>-0.516525</td>\n",
              "      <td>-0.516525</td>\n",
              "      <td>-0.516525</td>\n",
              "      <td>0.064566</td>\n",
              "      <td>0.064566</td>\n",
              "      <td>0.064566</td>\n",
              "      <td>0.385468</td>\n",
              "      <td>0.385468</td>\n",
              "      <td>0.385468</td>\n",
              "      <td>0.0</td>\n",
              "      <td>0.0</td>\n",
              "      <td>0.0</td>\n",
              "      <td>27.981573</td>\n",
              "    </tr>\n",
              "    <tr>\n",
              "      <th>768</th>\n",
              "      <td>2021-01-25</td>\n",
              "      <td>28.095844</td>\n",
              "      <td>26.820822</td>\n",
              "      <td>28.908303</td>\n",
              "      <td>27.951114</td>\n",
              "      <td>28.244580</td>\n",
              "      <td>-0.232520</td>\n",
              "      <td>-0.232520</td>\n",
              "      <td>-0.232520</td>\n",
              "      <td>-0.516525</td>\n",
              "      <td>-0.516525</td>\n",
              "      <td>-0.516525</td>\n",
              "      <td>-0.085233</td>\n",
              "      <td>-0.085233</td>\n",
              "      <td>-0.085233</td>\n",
              "      <td>0.369238</td>\n",
              "      <td>0.369238</td>\n",
              "      <td>0.369238</td>\n",
              "      <td>0.0</td>\n",
              "      <td>0.0</td>\n",
              "      <td>0.0</td>\n",
              "      <td>27.863324</td>\n",
              "    </tr>\n",
              "    <tr>\n",
              "      <th>769</th>\n",
              "      <td>2021-01-26</td>\n",
              "      <td>28.143623</td>\n",
              "      <td>27.007926</td>\n",
              "      <td>28.917733</td>\n",
              "      <td>27.988811</td>\n",
              "      <td>28.302315</td>\n",
              "      <td>-0.181848</td>\n",
              "      <td>-0.181848</td>\n",
              "      <td>-0.181848</td>\n",
              "      <td>-0.516525</td>\n",
              "      <td>-0.516525</td>\n",
              "      <td>-0.516525</td>\n",
              "      <td>-0.017335</td>\n",
              "      <td>-0.017335</td>\n",
              "      <td>-0.017335</td>\n",
              "      <td>0.352011</td>\n",
              "      <td>0.352011</td>\n",
              "      <td>0.352011</td>\n",
              "      <td>0.0</td>\n",
              "      <td>0.0</td>\n",
              "      <td>0.0</td>\n",
              "      <td>27.961775</td>\n",
              "    </tr>\n",
              "    <tr>\n",
              "      <th>770</th>\n",
              "      <td>2021-01-27</td>\n",
              "      <td>28.191402</td>\n",
              "      <td>26.989296</td>\n",
              "      <td>28.956540</td>\n",
              "      <td>28.028734</td>\n",
              "      <td>28.362285</td>\n",
              "      <td>-0.188767</td>\n",
              "      <td>-0.188767</td>\n",
              "      <td>-0.188767</td>\n",
              "      <td>-0.516525</td>\n",
              "      <td>-0.516525</td>\n",
              "      <td>-0.516525</td>\n",
              "      <td>-0.006186</td>\n",
              "      <td>-0.006186</td>\n",
              "      <td>-0.006186</td>\n",
              "      <td>0.333945</td>\n",
              "      <td>0.333945</td>\n",
              "      <td>0.333945</td>\n",
              "      <td>0.0</td>\n",
              "      <td>0.0</td>\n",
              "      <td>0.0</td>\n",
              "      <td>28.002635</td>\n",
              "    </tr>\n",
              "  </tbody>\n",
              "</table>\n",
              "<p>771 rows × 22 columns</p>\n",
              "</div>"
            ],
            "text/plain": [
              "            ds      trend  ...  multiplicative_terms_upper       yhat\n",
              "0   2018-01-02   2.333328  ...                         0.0   2.135937\n",
              "1   2018-01-03   2.367192  ...                         0.0   2.199905\n",
              "2   2018-01-04   2.401056  ...                         0.0   2.244650\n",
              "3   2018-01-05   2.434921  ...                         0.0   2.300354\n",
              "4   2018-01-08   2.536513  ...                         0.0   2.364396\n",
              "..         ...        ...  ...                         ...        ...\n",
              "766 2021-01-23  28.000286  ...                         0.0  27.948880\n",
              "767 2021-01-24  28.048065  ...                         0.0  27.981573\n",
              "768 2021-01-25  28.095844  ...                         0.0  27.863324\n",
              "769 2021-01-26  28.143623  ...                         0.0  27.961775\n",
              "770 2021-01-27  28.191402  ...                         0.0  28.002635\n",
              "\n",
              "[771 rows x 22 columns]"
            ]
          },
          "metadata": {
            "tags": []
          },
          "execution_count": 20
        }
      ]
    },
    {
      "cell_type": "code",
      "metadata": {
        "colab": {
          "base_uri": "https://localhost:8080/",
          "height": 420
        },
        "id": "yAhhISdpFuwR",
        "outputId": "f566840e-439c-46fc-dc70-03c1314eb395"
      },
      "source": [
        "grafico = modelo.plot(predicoes)"
      ],
      "execution_count": 21,
      "outputs": [
        {
          "output_type": "display_data",
          "data": {
            "image/png": "[encoded data removed]",
            "text/plain": [
              "<Figure size 720x432 with 1 Axes>"
            ]
          },
          "metadata": {
            "tags": []
          }
        }
      ]
    },
    {
      "cell_type": "code",
      "metadata": {
        "colab": {
          "base_uri": "https://localhost:8080/"
        },
        "id": "YXCmG9D7I22t",
        "outputId": "6fb53061-a54f-49e7-c0a0-a421d22cb86a"
      },
      "source": [
        "type(grafico)"
      ],
      "execution_count": 22,
      "outputs": [
        {
          "output_type": "execute_result",
          "data": {
            "text/plain": [
              "matplotlib.figure.Figure"
            ]
          },
          "metadata": {
            "tags": []
          },
          "execution_count": 22
        }
      ]
    },
    {
      "cell_type": "markdown",
      "metadata": {
        "id": "X8E7yfsAJc9l"
      },
      "source": [
        "# **Test 2**"
      ]
    },
    {
      "cell_type": "code",
      "metadata": {
        "id": "n5LF5E8rI6dD"
      },
      "source": [
        ""
      ],
      "execution_count": 23,
      "outputs": []
    }
  ]
}